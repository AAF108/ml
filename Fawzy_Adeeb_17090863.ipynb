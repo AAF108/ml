{
  "nbformat": 4,
  "nbformat_minor": 0,
  "metadata": {
    "colab": {
      "name": "Fawzy_Adeeb_17090863.ipynb",
      "provenance": [],
      "collapsed_sections": []
    },
    "kernelspec": {
      "name": "python3",
      "display_name": "Python 3"
    }
  },
  "cells": [
    {
      "cell_type": "markdown",
      "metadata": {
        "id": "f0DNj4zyIGKa"
      },
      "source": [
        "# Assignment 1\n",
        "The first assignment has two parts. The first part concerns PyTorch and the second part is about feature engineering for a basic NLP task.\n",
        "## Instructions\n",
        "\n",
        "1.   Make a copy of this notebook \n",
        "  - Click on \"File -> Save a copy in Drive\" and open it in Colab afterwards\n",
        "  - Alternatively, download the notebook and work on it on your local machine. However, keep in mind that you will have to make sure it still runs on Colab afterwards and does not depend on any packages that you installed locally\n",
        "2.   Rename your notebook to **surname_forename_studentnumber.ipynb**\n",
        "  - Make sure to exactly follow this naming scheme (don't replace `_` with `-` or something like that)\n",
        "  - **Failure to comply with this scheme results in -10 points!**\n",
        "3.   For math exercises, use $\\LaTeX$  to typset your answer\n",
        "4.   For coding exercises, insert your code at `# TODO` statements\n",
        "5.   For multiple-choice questions, choose an answer from the drop-down list\n",
        "6.   Before submitting your notebook, **make sure that it runs without errors when executed from start to end on Colab**\n",
        "  - To check this, reload your notebook and the Python kernel, and run the notebook from the first to the last cell\n",
        "  - **If your notebook throws any errors, you will be penalized by -25 points in addition to any penalities from incorrect answers**\n",
        "  - We are not going to fix any errors (no matter how small) to make your code work\n",
        "7.  Download your notebook and submit it on Moodle\n",
        "  - Click on \"File -> Download .ipynb\"\n",
        "  - [Zip](https://en.wikipedia.org/wiki/ZIP_(file_format)) the notebook as **surname_forename_studentnumber.zip**\n",
        "  - Upload the zip file to Moodle\n",
        "  \n",
        "\n"
      ]
    },
    {
      "cell_type": "markdown",
      "metadata": {
        "id": "qvB4c3R4II91"
      },
      "source": [
        "## Notebook Setup [don't change!]"
      ]
    },
    {
      "cell_type": "code",
      "metadata": {
        "id": "d0w7l3EpExU6",
        "colab": {
          "base_uri": "https://localhost:8080/"
        },
        "outputId": "bb5b695c-dfcb-4418-a6e4-73a924d47516"
      },
      "source": [
        "%%shell\n",
        "pip install torch"
      ],
      "execution_count": 1,
      "outputs": [
        {
          "output_type": "stream",
          "text": [
            "Requirement already satisfied: torch in /usr/local/lib/python3.6/dist-packages (1.7.0+cu101)\n",
            "Requirement already satisfied: numpy in /usr/local/lib/python3.6/dist-packages (from torch) (1.19.5)\n",
            "Requirement already satisfied: dataclasses in /usr/local/lib/python3.6/dist-packages (from torch) (0.8)\n",
            "Requirement already satisfied: future in /usr/local/lib/python3.6/dist-packages (from torch) (0.16.0)\n",
            "Requirement already satisfied: typing-extensions in /usr/local/lib/python3.6/dist-packages (from torch) (3.7.4.3)\n"
          ],
          "name": "stdout"
        },
        {
          "output_type": "execute_result",
          "data": {
            "text/plain": [
              ""
            ]
          },
          "metadata": {
            "tags": []
          },
          "execution_count": 1
        }
      ]
    },
    {
      "cell_type": "code",
      "metadata": {
        "id": "Pqig2nu9Eztp",
        "colab": {
          "base_uri": "https://localhost:8080/",
          "height": 35
        },
        "outputId": "97b3ed4a-9408-4fd2-a2f5-7cd4062bd09c"
      },
      "source": [
        "import torch\n",
        "from torch import nn\n",
        "torch.__version__ "
      ],
      "execution_count": 2,
      "outputs": [
        {
          "output_type": "execute_result",
          "data": {
            "application/vnd.google.colaboratory.intrinsic+json": {
              "type": "string"
            },
            "text/plain": [
              "'1.7.0+cu101'"
            ]
          },
          "metadata": {
            "tags": []
          },
          "execution_count": 2
        }
      ]
    },
    {
      "cell_type": "markdown",
      "metadata": {
        "id": "hPDNBpMBGhsj"
      },
      "source": [
        "# Part I: PyTorch [50 points]"
      ]
    },
    {
      "cell_type": "markdown",
      "metadata": {
        "id": "ucOi5QgPG3Jg"
      },
      "source": [
        "## Linear Algebra [30 points]"
      ]
    },
    {
      "cell_type": "markdown",
      "metadata": {
        "id": "FCJ4t0Mk0jlz"
      },
      "source": [
        "### PyTorch Tensors [5 points]"
      ]
    },
    {
      "cell_type": "markdown",
      "metadata": {
        "id": "gZNaDhZHKYFL"
      },
      "source": [
        "#### Construct Scaled Identity Matrix [1 point]\n",
        "Given $n \\in \\mathbb{N}$ and $c \\in \\mathbb{R}$, construct a matrix $\\mathbf{X} \\in \\mathbb{R}^{n\\ \\times\\ n}$ where $\\mathbf{X}$ has $c$ on its diagonal and zeros everywhere else."
      ]
    },
    {
      "cell_type": "code",
      "metadata": {
        "id": "xwYNaam7L0Aw",
        "colab": {
          "base_uri": "https://localhost:8080/"
        },
        "outputId": "92acd9c8-4705-4a01-966e-0dd5fd3d131d"
      },
      "source": [
        "def construct_scaled_identity(n, c):\n",
        "  x = c*torch.eye(n)\n",
        "  return x\n",
        "\n",
        "construct_scaled_identity(4, 3.2)"
      ],
      "execution_count": 3,
      "outputs": [
        {
          "output_type": "execute_result",
          "data": {
            "text/plain": [
              "tensor([[3.2000, 0.0000, 0.0000, 0.0000],\n",
              "        [0.0000, 3.2000, 0.0000, 0.0000],\n",
              "        [0.0000, 0.0000, 3.2000, 0.0000],\n",
              "        [0.0000, 0.0000, 0.0000, 3.2000]])"
            ]
          },
          "metadata": {
            "tags": []
          },
          "execution_count": 3
        }
      ]
    },
    {
      "cell_type": "markdown",
      "metadata": {
        "id": "0LN669ufJMsq"
      },
      "source": [
        "#### Mean Diagonal [1 point]\n",
        "Given a square matrix $\\mathbf{X}\\in\\mathbb{R}^{n\\ \\times\\ n}$, return the mean of its diagonal."
      ]
    },
    {
      "cell_type": "code",
      "metadata": {
        "id": "9Cqjyj6rJ6Pg",
        "colab": {
          "base_uri": "https://localhost:8080/"
        },
        "outputId": "18ccebbf-1d07-43eb-fcef-15223f77255d"
      },
      "source": [
        "def mean_diagonal(x):\n",
        "  x = torch.diagonal(x)\n",
        "  x = torch.mean(x)\n",
        "  return x\n",
        "\n",
        "x = torch.arange(0, 16, dtype=torch.float).view(4, 4)\n",
        "mean_diagonal(x)"
      ],
      "execution_count": 4,
      "outputs": [
        {
          "output_type": "execute_result",
          "data": {
            "text/plain": [
              "tensor(7.5000)"
            ]
          },
          "metadata": {
            "tags": []
          },
          "execution_count": 4
        }
      ]
    },
    {
      "cell_type": "markdown",
      "metadata": {
        "id": "Yv9v5j0AMfpO"
      },
      "source": [
        "#### Indexing [1 point]\n",
        "Given a matrix $\\mathbf{X}\\in\\mathbb{R}^{n\\ \\times\\ m}$ and $i,j \\in \\mathbb{N}$, return the submatrix $\\mathbf{Y}\\in\\mathbb{R}^{i\\ \\times\\ j}$ of the last i rows and last j columns of $\\mathbf{X}$ (i.e. the bottom right submatrix of the given size). You can assume that $i \\leq n$ and $j \\leq m$."
      ]
    },
    {
      "cell_type": "code",
      "metadata": {
        "id": "DxXTcoO6Nj_n",
        "colab": {
          "base_uri": "https://localhost:8080/"
        },
        "outputId": "0ac199d5-677e-4d89-bd04-7848a2f2bc96"
      },
      "source": [
        "def bottom_right_matrix(x, i, j):\n",
        "  y = x[x.shape[0]-i:,x.shape[1]-j:]\n",
        "  return y\n",
        "\n",
        "x = torch.arange(0, 12).view(3, 4)\n",
        "bottom_right_matrix(x, 2, 2)"
      ],
      "execution_count": 5,
      "outputs": [
        {
          "output_type": "execute_result",
          "data": {
            "text/plain": [
              "tensor([[ 6,  7],\n",
              "        [10, 11]])"
            ]
          },
          "metadata": {
            "tags": []
          },
          "execution_count": 5
        }
      ]
    },
    {
      "cell_type": "markdown",
      "metadata": {
        "id": "QWooDl4O0ooy"
      },
      "source": [
        "#### Transpose Sum [2 points]\n",
        "Given a tensor $\\mathcal{X}\\in\\mathbb{R}^{i\\ \\times\\ j\\ \\times\\ k}$, return a transposed tensor $\\mathcal{y}\\in\\mathbb{R}^{j\\ \\times\\ i}$ whose values in the third dimension are summed up."
      ]
    },
    {
      "cell_type": "code",
      "metadata": {
        "id": "h_o8MrXj0nQu",
        "colab": {
          "base_uri": "https://localhost:8080/"
        },
        "outputId": "7a7844a2-d76d-40fd-ae02-4a4e8369ab5a"
      },
      "source": [
        "def transpose_sum(x):\n",
        "  x = torch.sum(x, dim=0)\n",
        "  x = x.T\n",
        "  return x\n",
        "\n",
        "x = torch.arange(0, 12).view(2, 3, 2)\n",
        "transpose_sum(x)"
      ],
      "execution_count": 6,
      "outputs": [
        {
          "output_type": "execute_result",
          "data": {
            "text/plain": [
              "tensor([[ 6, 10, 14],\n",
              "        [ 8, 12, 16]])"
            ]
          },
          "metadata": {
            "tags": []
          },
          "execution_count": 6
        }
      ]
    },
    {
      "cell_type": "markdown",
      "metadata": {
        "id": "nhuGQ1I_klmv"
      },
      "source": [
        "### Matrix-vector Multiplication [10 points]"
      ]
    },
    {
      "cell_type": "markdown",
      "metadata": {
        "id": "kJ7YPXIrIpOg"
      },
      "source": [
        "Implement five unique ways for multiplying a matrix A with a vector b. **Each PyTorch function is allowed to be used in only one of the five implementations**. For instance, if you use `unsqueeze` in one of the methods, you are not allowed to use it for the other five implementations. Furthermore, functions in `torch` and in `torch.Tensor` are treated as the same function (i.e. using `torch.add(x, y)`, `x.add(y)` and `x + y` are all treated as the same function and hence are not allowed to be used in more than one implementation). Your code needs to be applicable to any matrix $A \\in \\mathbb{R}^{n\\ \\times\\ m }$ and vector $b\\in\\mathbb{R}^m$."
      ]
    },
    {
      "cell_type": "code",
      "metadata": {
        "id": "9FPwXxLEIdPL"
      },
      "source": [
        "def matrixvector1(A, b):  \n",
        "  c = torch.mv(A,b)\n",
        "  return c\n",
        "\n",
        "def matrixvector2(A, b):\n",
        "  c = A @ b\n",
        "  return c\n",
        "\n",
        "def matrixvector3(A, b):\n",
        "  c = torch.sum(A*b,dim = 1)\n",
        "  return c\n",
        "\n",
        "def matrixvector4(A, b):\n",
        "  c = torch.reshape(b, (b.shape[0],1))\n",
        "  d = torch.mm(A,c)\n",
        "  d = torch.flatten(d)\n",
        "  return d\n",
        "\n",
        "def matrixvector5(A, b):\n",
        "  c = torch.einsum('ik,k->i',[A,b])\n",
        "  return c"
      ],
      "execution_count": 7,
      "outputs": []
    },
    {
      "cell_type": "markdown",
      "metadata": {
        "id": "qG2Uk7oRkqeO"
      },
      "source": [
        "### Backprop [15 points]"
      ]
    },
    {
      "cell_type": "markdown",
      "metadata": {
        "id": "y-AL4Dl8xJF8"
      },
      "source": [
        "#### Forward [2 points]\n",
        "Implement $\\mathbf{y}\\odot\\text{tanh}\\left(\\mathbf{W}\\mathbf{x}+\\mathbf{b}\\right)$ in PyTorch without using a linear layer implementation (i.e. do the matrix-vector mulitplication and addition of a bias term yourself). Note that we are not looking for a batched implementation, so assume $\\mathbf{y},\\mathbf{b} \\in \\mathbb{R}^n, \\mathbf{x}\\in\\mathbb{R}^m$ and $\\mathbf{W}\\in\\mathbb{R}^{n\\ \\times\\ m}$"
      ]
    },
    {
      "cell_type": "code",
      "metadata": {
        "id": "mcCqnNPtv0nu"
      },
      "source": [
        "def fw(y, W, x, b):\n",
        "  wx = W @ x \n",
        "  wxb = wx + b\n",
        "  c = y * torch.tanh(wxb)\n",
        "  return c"
      ],
      "execution_count": 8,
      "outputs": []
    },
    {
      "cell_type": "markdown",
      "metadata": {
        "id": "Xav_9KwaxkFL"
      },
      "source": [
        "#### Gradient [10 points]\n",
        "Derive $\\mathbf{z}^\\top\\frac{\\partial}{\\partial \\mathbf{x}}\\left[\\mathbf{y}\\odot\\text{tanh}\\left(\\mathbf{W}\\mathbf{x}+\\mathbf{b}\\right)\\right]$ analytically. Here $\\mathbf{z}$ is an _upstream (error) gradient_ and we are interested in calculating the _downstream gradient_ for $\\mathbf{x}$. Make sure to write down all intermediate steps and not just the final result. "
      ]
    },
    {
      "cell_type": "markdown",
      "metadata": {
        "id": "yn3Bu-y8y1Co"
      },
      "source": [
        "\\begin{align}\n",
        "\\mathbf{z}^\\top\\frac{\\partial}{\\partial \\mathbf{x}}\\left[\\mathbf{y}\\odot\\text{tanh}\\left(\\mathbf{W}\\mathbf{x}+\\mathbf{b}\\right)\\right] \n",
        "&=\\ ???\n",
        "\\end{align}"
      ]
    },
    {
      "cell_type": "markdown",
      "metadata": {
        "id": "JeIclc-HhvBX"
      },
      "source": [
        "\\begin{gather*}\r\n",
        "z^T \\frac{\\partial}{\\partial x}[y \\odot \\tanh(Wx + b)]\\\\\r\n",
        "= z^T [y \\ [\\frac{\\partial}{\\partial x}\\tanh(Wx + b)]+ \\tanh(Wx + b)[\\frac{\\partial}{\\partial x}y]]\\\\\r\n",
        "\\frac{\\partial}{\\partial x}\\tanh(Wx + b) = \\text{sech}^2(Wx + b) \\cdot \\frac{\\partial}{\\partial x}[Wx+b]  = \\text{sech}^2(Wx + b)W\\\\\r\n",
        "= z^T [y \\ [\\text{sech}^2(Wx + b)W]+ 0]\\\\\r\n",
        " = z^T [y \\ \\odot \\ \\text{sech}^2(Wx + b)W]\r\n",
        "\\end{gather*}"
      ]
    },
    {
      "cell_type": "markdown",
      "metadata": {
        "id": "by45qCyMxrBr"
      },
      "source": [
        "#### Backward [3 points]\n",
        "Implement the calculation for $\\mathbf{z}^\\top\\frac{\\partial}{\\partial \\mathbf{x}}\\left[\\mathbf{y}\\odot\\text{tanh}\\left(\\mathbf{W}\\mathbf{x}+\\mathbf{b}\\right)\\right]$  in PyTorch (i.e. without using PyTorch Autograd's `.backward`) using your derivation above."
      ]
    },
    {
      "cell_type": "code",
      "metadata": {
        "id": "EqIFSUV7yd6m"
      },
      "source": [
        "def bw(y, W, x, b, grad_output):\n",
        "  a  =  y * (torch.tensor(1)/ (torch.cosh(w @ x + b) ** 2)) @ w \n",
        "  result = z * a\n",
        "  return result"
      ],
      "execution_count": 9,
      "outputs": []
    },
    {
      "cell_type": "markdown",
      "metadata": {
        "id": "QvBLkJKhG6Rg"
      },
      "source": [
        "## SortBy PyTorch Autograd Function [10 points]"
      ]
    },
    {
      "cell_type": "markdown",
      "metadata": {
        "id": "ZsLf0kvGG9W4"
      },
      "source": [
        "Implement a PyTorch Autograd function `SortBy` which takes two inputs:\n",
        "- `x` is a matrix of size `m x n` \n",
        "- `s` is an accompanying vector of size `m`\n",
        "\n",
        "`SortBy` should sort the position of the row vectors in `x` using the accompanying scores in `s` in ascending order. For example, given\n",
        "$$\n",
        "\\begin{align}\n",
        "\\mathbf{X} &= \\left[\\begin{matrix}\n",
        "0.2 & -0.4 & 0.3\\\\\n",
        "1.2 & 2.3 & -2.1\\\\\n",
        "0.1 & -0.1 & 2\n",
        "\\end{matrix}\\right]\n",
        "&\\mathbf{s} &=\\left[\\begin{matrix}\n",
        "0.2\\\\\n",
        "-0.1\\\\\n",
        "3\n",
        "\\end{matrix}\\right]\n",
        "\\end{align}\n",
        "$$ the forward pass of `SortBy` should return\n",
        "$$\n",
        "\\mathbf{Y} = \\left[\\begin{matrix}\n",
        "1.2 & 2.3 & -2.1\\\\\n",
        "0.2 & -0.4 & 0.3\\\\\n",
        "0.1 & -0.1 & 2\n",
        "\\end{matrix}\\right]\n",
        "$$.\n",
        "\n",
        "Furthermore, given an upstream gradient `grad_output`  (i.e. a matrix of the same size as X), the backward pass of `SortBy` should calculate the gradient of `x`, effectively rerouting the gradient to the original position of the vectors before sorting. For example, if the first row vector of the upstream gradient  in our example above is a vector $\\mathbf{z}$, the gradient of `x` would have $\\mathbf{z}$ as its second row vector.\n",
        "\n",
        "Note that, `SortBy` will only be differentiable w.r.t. to x, and is not be differentiable w.r.t. the sorting procedure to provie a gradient for `s`. **You are not allowed to use any Python loops in your implementation. If you use Python loops for your solution, we will only give you half of the points!**\n",
        "\n",
        "Hints:\n",
        "- You are allowed to use `torch.sort` in your implementation of the forward pass.\n",
        "- Similarly to the example we had in the lecture, you can use the context `ctx` to save tensors on the forward pass that you might need to reuse on the backward pass."
      ]
    },
    {
      "cell_type": "code",
      "metadata": {
        "id": "Q-YgSz5uQI_Q"
      },
      "source": [
        "from torch.autograd import Function\n",
        "\n",
        "class SortBy(Function): \n",
        "  @staticmethod\n",
        "  def forward(ctx, x, s):\n",
        "    z = torch.sort(s)\n",
        "    ind = z.indices\n",
        "    result = x[ind]\n",
        "    ctx.save_for_backward(ind)\n",
        "    return result\n",
        "  \n",
        "  @staticmethod\n",
        "  def backward(ctx, grad_output):\n",
        "    ind, = ctx.saved_tensors\n",
        "    return grad_output[ind], None"
      ],
      "execution_count": 10,
      "outputs": []
    },
    {
      "cell_type": "markdown",
      "metadata": {
        "id": "a_BF7G3UHFcp"
      },
      "source": [
        "## Multiple Choice Quiz [10 points]\n",
        "\n",
        "Answer the following questions by selecting the correct most specific answer (or `None` in case all answers are wrong).\n",
        "\n",
        "1. Which of the following operations cannot be calculated using `@`?\n",
        "2. What is gradient checking for?\n",
        "3. Why don't we use the finite differences method of gradient checking to calculate gradients instead of using backpropagation?\n",
        "4. Which of the following operations cannot be expressed as a single einsum string?\n",
        "5. When should you prefer using `view` instead of `reshape`?\n",
        "6. Which of the following statements is true if you construct a PyTorch tensor from a NumPy array using `torch.from_numpy`?\n",
        "7. Which one is a sufficient condition for being able to broadcast an operation between two tensors?\n",
        "8. What is the difference between a torch.Tensor and a torch.nn.Parameter?\n",
        "9. Given a convex loss function and a sufficiently small learning rate, stochastic gradient descent is guaranteed to?\n",
        "10. Given a non-convex loss function and a very large learning rate, stochastic gradient descent is guaranteed to?"
      ]
    },
    {
      "cell_type": "code",
      "metadata": {
        "id": "cWbew_PsFG5u"
      },
      "source": [
        "#@title Answers { run: \"auto\" }\n",
        "Q1 = \"None of the above\" #@param [\"Matrix-matrix multiplication\", \"Matrix-vector multiplication\", \"Vector-vector multiplication\", \"Tensor-matrix multiplication\", \"Tensor-vector multiplication\", \"None of the above\"]\n",
        "Q2 = \"It tests wether the function and its gradient have been implemented correctly\" #@param [\"It tests whether the forward pass of a function is consistent with the backward pass\", \"It is used at runtime to check for numerical instabilities in the backward pass\", \"It tests wether the function and its gradient have been implemented correctly\", \"It tests whether the norm of the gradients of a function are bounded\", \"None of the above\"]\n",
        "Q3 = \"It would be too slow\" #@param [\"It cannot be used to approximate the gradient accurately enough\", \"It can only be used to calculate the gradient of single functions and not for chained functions which are commonly used in deep learning models\", \"It would be too slow\", \"None of the above\"]\n",
        "Q4 = \"None of the above\" #@param [\"The transpose of an order-three tensor\", \"The sum of the diagonal of a square matrix\", \"The outer product of two matrices\", \"None of the above\"]\n",
        "Q5 = \"When the tensor is contiguous\" #@param [\"When the tensor is non-contiguous\", \"When the tensor is contiguous\", \"None of the above\"]\n",
        "Q6 = \"They point to the same memory and altering one will change the other\" #@param [\"Gradients can be calculated using both, the PyTorch tensor and the NumPy array\", \"They point to the same memory and altering one will change the other\", \"The PyTorch tensor cannot be mapped back to a NumPy array\", \"None of the above\"]\n",
        "Q7 = \"None of the above\" #@param [\"One of the two tensors is a scalar\", \"One of the tensors has a singleton dimension\", \"The two tensors have the same number of dimensions\", \"None of the above\"]\n",
        "Q8 = \"Parameters get associated with a model when assigned to a member of the model's modules\" #@param [\"Parameters are mutable and tensors are not\", \"Parameters get associated with a model when assigned to a member of the model's modules\", \"Parameters need to be flattened into vectors whereas tensors can be high-dimensional\", \"None of the above\"]\n",
        "Q9 = \"Find the global optimum\" #@param [\"Find a local optimum\", \"Find the global optimum\", \"All of the above\", \"None of the above\"]\n",
        "Q10 = \"All of the above\" #@param [\"Find a local optimum\", \"Find the global optimum\", \"Converge to a saddle point\", \"All of the above\", \"None of the above\"]"
      ],
      "execution_count": 11,
      "outputs": []
    },
    {
      "cell_type": "markdown",
      "metadata": {
        "id": "YZwY626nGlbb"
      },
      "source": [
        "# Part II: Feature Engineering [50 points]\n",
        "\n",
        "In this section you will develop a logistic regression model for sentiment prediction.  \n",
        "\n",
        "## Setup \n",
        "First we download the [sentence polarity dataset v1.0](http://www.cs.cornell.edu/people/pabo/movie-review-data/rt-polaritydata.tar.gz) from this [website](http://www.cs.cornell.edu/people/pabo/movie-review-data/) using a few shell commands. "
      ]
    },
    {
      "cell_type": "code",
      "metadata": {
        "id": "qwR7cadCuLD3",
        "colab": {
          "base_uri": "https://localhost:8080/"
        },
        "outputId": "4b7dd795-673b-445c-86f9-1216c8bddd3f"
      },
      "source": [
        "%%shell\n",
        "wget http://www.cs.cornell.edu/People/pabo/movie-review-data/rt-polaritydata.tar.gz\n",
        "tar -xzf rt-polaritydata.tar.gz\n",
        "mv rt-polaritydata.README.1.0.txt rt-polaritydata\n",
        "cd rt-polaritydata\n",
        "iconv -f cp1252 -t utf-8 < rt-polarity.neg > rt-polarity.neg.utf8\n",
        "iconv -f cp1252 -t utf-8 < rt-polarity.pos > rt-polarity.pos.utf8\n",
        "perl -ne 'print \"neg\\t\" . $_' <  rt-polarity.neg.utf8 > rt-polarity.neg.utf8.tsv\n",
        "perl -ne 'print \"pos\\t\" . $_' <  rt-polarity.pos.utf8 > rt-polarity.pos.utf8.tsv\n",
        "cat rt-polarity.neg.utf8.tsv rt-polarity.pos.utf8.tsv > rt-polarity.utf8.tsv"
      ],
      "execution_count": 12,
      "outputs": [
        {
          "output_type": "stream",
          "text": [
            "--2021-02-02 11:08:57--  http://www.cs.cornell.edu/People/pabo/movie-review-data/rt-polaritydata.tar.gz\n",
            "Resolving www.cs.cornell.edu (www.cs.cornell.edu)... 132.236.207.36\n",
            "Connecting to www.cs.cornell.edu (www.cs.cornell.edu)|132.236.207.36|:80... connected.\n",
            "HTTP request sent, awaiting response... 301 Moved Permanently\n",
            "Location: http://www.cs.cornell.edu/people/pabo/movie-review-data/rt-polaritydata.tar.gz [following]\n",
            "--2021-02-02 11:08:57--  http://www.cs.cornell.edu/people/pabo/movie-review-data/rt-polaritydata.tar.gz\n",
            "Reusing existing connection to www.cs.cornell.edu:80.\n",
            "HTTP request sent, awaiting response... 200 OK\n",
            "Length: 487770 (476K) [application/x-gzip]\n",
            "Saving to: ‘rt-polaritydata.tar.gz’\n",
            "\n",
            "rt-polaritydata.tar 100%[===================>] 476.34K  --.-KB/s    in 0.1s    \n",
            "\n",
            "2021-02-02 11:08:57 (3.41 MB/s) - ‘rt-polaritydata.tar.gz’ saved [487770/487770]\n",
            "\n"
          ],
          "name": "stdout"
        },
        {
          "output_type": "execute_result",
          "data": {
            "text/plain": [
              ""
            ]
          },
          "metadata": {
            "tags": []
          },
          "execution_count": 12
        }
      ]
    },
    {
      "cell_type": "markdown",
      "metadata": {
        "id": "h2MTMQSMWPr9"
      },
      "source": [
        "Now we install [AllenNLP](https://allennlp.org/)."
      ]
    },
    {
      "cell_type": "code",
      "metadata": {
        "id": "lf64vki1zt0k",
        "colab": {
          "base_uri": "https://localhost:8080/"
        },
        "outputId": "7c05542c-ec35-44c1-e965-a66a33bb816c"
      },
      "source": [
        "%%shell\n",
        "pip install allennlp==0.9.0"
      ],
      "execution_count": 13,
      "outputs": [
        {
          "output_type": "stream",
          "text": [
            "Collecting allennlp==0.9.0\n",
            "\u001b[?25l  Downloading https://files.pythonhosted.org/packages/bb/bb/041115d8bad1447080e5d1e30097c95e4b66e36074277afce8620a61cee3/allennlp-0.9.0-py3-none-any.whl (7.6MB)\n",
            "\u001b[K     |████████████████████████████████| 7.6MB 5.1MB/s \n",
            "\u001b[?25hRequirement already satisfied: scipy in /usr/local/lib/python3.6/dist-packages (from allennlp==0.9.0) (1.4.1)\n",
            "Collecting conllu==1.3.1\n",
            "  Downloading https://files.pythonhosted.org/packages/ae/54/b0ae1199f3d01666821b028cd967f7c0ac527ab162af433d3da69242cea2/conllu-1.3.1-py2.py3-none-any.whl\n",
            "Requirement already satisfied: tqdm>=4.19 in /usr/local/lib/python3.6/dist-packages (from allennlp==0.9.0) (4.41.1)\n",
            "Collecting jsonpickle\n",
            "  Downloading https://files.pythonhosted.org/packages/77/a7/c2f527ddce3155ae9e008385963c2325cbfd52969f8b38efa2723e2af4af/jsonpickle-1.5.1-py2.py3-none-any.whl\n",
            "Requirement already satisfied: pytest in /usr/local/lib/python3.6/dist-packages (from allennlp==0.9.0) (3.6.4)\n",
            "Collecting jsonnet>=0.10.0; sys_platform != \"win32\"\n",
            "\u001b[?25l  Downloading https://files.pythonhosted.org/packages/42/40/6f16e5ac994b16fa71c24310f97174ce07d3a97b433275589265c6b94d2b/jsonnet-0.17.0.tar.gz (259kB)\n",
            "\u001b[K     |████████████████████████████████| 266kB 44.7MB/s \n",
            "\u001b[?25hRequirement already satisfied: flask>=1.0.2 in /usr/local/lib/python3.6/dist-packages (from allennlp==0.9.0) (1.1.2)\n",
            "Requirement already satisfied: sqlparse>=0.2.4 in /usr/local/lib/python3.6/dist-packages (from allennlp==0.9.0) (0.4.1)\n",
            "Requirement already satisfied: editdistance in /usr/local/lib/python3.6/dist-packages (from allennlp==0.9.0) (0.5.3)\n",
            "Collecting spacy<2.2,>=2.1.0\n",
            "\u001b[?25l  Downloading https://files.pythonhosted.org/packages/41/5b/e07dd3bf104237bce4b398558b104c8e500333d6f30eabe3fa9685356b7d/spacy-2.1.9-cp36-cp36m-manylinux1_x86_64.whl (30.8MB)\n",
            "\u001b[K     |████████████████████████████████| 30.9MB 134kB/s \n",
            "\u001b[?25hRequirement already satisfied: requests>=2.18 in /usr/local/lib/python3.6/dist-packages (from allennlp==0.9.0) (2.23.0)\n",
            "Collecting word2number>=1.1\n",
            "  Downloading https://files.pythonhosted.org/packages/4a/29/a31940c848521f0725f0df6b25dca8917f13a2025b0e8fcbe5d0457e45e6/word2number-1.1.zip\n",
            "Requirement already satisfied: matplotlib>=2.2.3 in /usr/local/lib/python3.6/dist-packages (from allennlp==0.9.0) (3.2.2)\n",
            "Requirement already satisfied: numpy in /usr/local/lib/python3.6/dist-packages (from allennlp==0.9.0) (1.19.5)\n",
            "Collecting boto3\n",
            "\u001b[?25l  Downloading https://files.pythonhosted.org/packages/c3/db/a7e290eb77632c9d25247977bbfc99aef9cd59f7c13eea69f8fea44404af/boto3-1.16.63-py2.py3-none-any.whl (130kB)\n",
            "\u001b[K     |████████████████████████████████| 133kB 42.8MB/s \n",
            "\u001b[?25hRequirement already satisfied: torch>=1.2.0 in /usr/local/lib/python3.6/dist-packages (from allennlp==0.9.0) (1.7.0+cu101)\n",
            "Collecting overrides\n",
            "  Downloading https://files.pythonhosted.org/packages/ff/b1/10f69c00947518e6676bbd43e739733048de64b8dd998e9c2d5a71f44c5d/overrides-3.1.0.tar.gz\n",
            "Collecting flask-cors>=3.0.7\n",
            "  Downloading https://files.pythonhosted.org/packages/db/84/901e700de86604b1c4ef4b57110d4e947c218b9997adf5d38fa7da493bce/Flask_Cors-3.0.10-py2.py3-none-any.whl\n",
            "Collecting numpydoc>=0.8.0\n",
            "\u001b[?25l  Downloading https://files.pythonhosted.org/packages/60/1d/9e398c53d6ae27d5ab312ddc16a9ffe1bee0dfdf1d6ec88c40b0ca97582e/numpydoc-1.1.0-py3-none-any.whl (47kB)\n",
            "\u001b[K     |████████████████████████████████| 51kB 5.9MB/s \n",
            "\u001b[?25hRequirement already satisfied: pytz>=2017.3 in /usr/local/lib/python3.6/dist-packages (from allennlp==0.9.0) (2018.9)\n",
            "Requirement already satisfied: scikit-learn in /usr/local/lib/python3.6/dist-packages (from allennlp==0.9.0) (0.22.2.post1)\n",
            "Collecting unidecode\n",
            "\u001b[?25l  Downloading https://files.pythonhosted.org/packages/74/65/91eab655041e9e92f948cb7302e54962035762ce7b518272ed9d6b269e93/Unidecode-1.1.2-py2.py3-none-any.whl (239kB)\n",
            "\u001b[K     |████████████████████████████████| 245kB 42.6MB/s \n",
            "\u001b[?25hCollecting ftfy\n",
            "\u001b[?25l  Downloading https://files.pythonhosted.org/packages/ff/e2/3b51c53dffb1e52d9210ebc01f1fb9f2f6eba9b3201fa971fd3946643c71/ftfy-5.8.tar.gz (64kB)\n",
            "\u001b[K     |████████████████████████████████| 71kB 7.0MB/s \n",
            "\u001b[?25hCollecting parsimonious>=0.8.0\n",
            "\u001b[?25l  Downloading https://files.pythonhosted.org/packages/02/fc/067a3f89869a41009e1a7cdfb14725f8ddd246f30f63c645e8ef8a1c56f4/parsimonious-0.8.1.tar.gz (45kB)\n",
            "\u001b[K     |████████████████████████████████| 51kB 5.3MB/s \n",
            "\u001b[?25hCollecting responses>=0.7\n",
            "  Downloading https://files.pythonhosted.org/packages/d5/71/4f04aed03ca35f2d02e1732ca6e996b2d7b40232fb7f1b58ff35f9a89b7b/responses-0.12.1-py2.py3-none-any.whl\n",
            "Collecting pytorch-transformers==1.1.0\n",
            "\u001b[?25l  Downloading https://files.pythonhosted.org/packages/50/89/ad0d6bb932d0a51793eaabcf1617a36ff530dc9ab9e38f765a35dc293306/pytorch_transformers-1.1.0-py3-none-any.whl (158kB)\n",
            "\u001b[K     |████████████████████████████████| 163kB 43.6MB/s \n",
            "\u001b[?25hCollecting tensorboardX>=1.2\n",
            "\u001b[?25l  Downloading https://files.pythonhosted.org/packages/af/0c/4f41bcd45db376e6fe5c619c01100e9b7531c55791b7244815bac6eac32c/tensorboardX-2.1-py2.py3-none-any.whl (308kB)\n",
            "\u001b[K     |████████████████████████████████| 317kB 35.8MB/s \n",
            "\u001b[?25hCollecting pytorch-pretrained-bert>=0.6.0\n",
            "\u001b[?25l  Downloading https://files.pythonhosted.org/packages/d7/e0/c08d5553b89973d9a240605b9c12404bcf8227590de62bae27acbcfe076b/pytorch_pretrained_bert-0.6.2-py3-none-any.whl (123kB)\n",
            "\u001b[K     |████████████████████████████████| 133kB 41.2MB/s \n",
            "\u001b[?25hRequirement already satisfied: nltk in /usr/local/lib/python3.6/dist-packages (from allennlp==0.9.0) (3.2.5)\n",
            "Collecting gevent>=1.3.6\n",
            "\u001b[?25l  Downloading https://files.pythonhosted.org/packages/f5/90/000736e587a720f8eef2bcd384456ce2add5ddfc3c63cf51a7ea13412cb6/gevent-21.1.2-cp36-cp36m-manylinux2010_x86_64.whl (5.5MB)\n",
            "\u001b[K     |████████████████████████████████| 5.5MB 38.8MB/s \n",
            "\u001b[?25hCollecting flaky\n",
            "  Downloading https://files.pythonhosted.org/packages/43/0e/2f50064e327f41a1eb811df089f813036e19a64b95e33f8e9e0b96c2447e/flaky-3.7.0-py2.py3-none-any.whl\n",
            "Requirement already satisfied: h5py in /usr/local/lib/python3.6/dist-packages (from allennlp==0.9.0) (2.10.0)\n",
            "Requirement already satisfied: importlib-metadata; python_version < \"3.8\" in /usr/local/lib/python3.6/dist-packages (from jsonpickle->allennlp==0.9.0) (3.4.0)\n",
            "Requirement already satisfied: py>=1.5.0 in /usr/local/lib/python3.6/dist-packages (from pytest->allennlp==0.9.0) (1.10.0)\n",
            "Requirement already satisfied: pluggy<0.8,>=0.5 in /usr/local/lib/python3.6/dist-packages (from pytest->allennlp==0.9.0) (0.7.1)\n",
            "Requirement already satisfied: attrs>=17.4.0 in /usr/local/lib/python3.6/dist-packages (from pytest->allennlp==0.9.0) (20.3.0)\n",
            "Requirement already satisfied: setuptools in /usr/local/lib/python3.6/dist-packages (from pytest->allennlp==0.9.0) (51.3.3)\n",
            "Requirement already satisfied: more-itertools>=4.0.0 in /usr/local/lib/python3.6/dist-packages (from pytest->allennlp==0.9.0) (8.6.0)\n",
            "Requirement already satisfied: atomicwrites>=1.0 in /usr/local/lib/python3.6/dist-packages (from pytest->allennlp==0.9.0) (1.4.0)\n",
            "Requirement already satisfied: six>=1.10.0 in /usr/local/lib/python3.6/dist-packages (from pytest->allennlp==0.9.0) (1.15.0)\n",
            "Requirement already satisfied: Jinja2>=2.10.1 in /usr/local/lib/python3.6/dist-packages (from flask>=1.0.2->allennlp==0.9.0) (2.11.2)\n",
            "Requirement already satisfied: itsdangerous>=0.24 in /usr/local/lib/python3.6/dist-packages (from flask>=1.0.2->allennlp==0.9.0) (1.1.0)\n",
            "Requirement already satisfied: Werkzeug>=0.15 in /usr/local/lib/python3.6/dist-packages (from flask>=1.0.2->allennlp==0.9.0) (1.0.1)\n",
            "Requirement already satisfied: click>=5.1 in /usr/local/lib/python3.6/dist-packages (from flask>=1.0.2->allennlp==0.9.0) (7.1.2)\n",
            "Requirement already satisfied: wasabi<1.1.0,>=0.2.0 in /usr/local/lib/python3.6/dist-packages (from spacy<2.2,>=2.1.0->allennlp==0.9.0) (0.8.1)\n",
            "Requirement already satisfied: murmurhash<1.1.0,>=0.28.0 in /usr/local/lib/python3.6/dist-packages (from spacy<2.2,>=2.1.0->allennlp==0.9.0) (1.0.5)\n",
            "Requirement already satisfied: cymem<2.1.0,>=2.0.2 in /usr/local/lib/python3.6/dist-packages (from spacy<2.2,>=2.1.0->allennlp==0.9.0) (2.0.5)\n",
            "Requirement already satisfied: srsly<1.1.0,>=0.0.6 in /usr/local/lib/python3.6/dist-packages (from spacy<2.2,>=2.1.0->allennlp==0.9.0) (1.0.5)\n",
            "Collecting thinc<7.1.0,>=7.0.8\n",
            "\u001b[?25l  Downloading https://files.pythonhosted.org/packages/18/a5/9ace20422e7bb1bdcad31832ea85c52a09900cd4a7ce711246bfb92206ba/thinc-7.0.8-cp36-cp36m-manylinux1_x86_64.whl (2.1MB)\n",
            "\u001b[K     |████████████████████████████████| 2.1MB 48.6MB/s \n",
            "\u001b[?25hCollecting plac<1.0.0,>=0.9.6\n",
            "  Downloading https://files.pythonhosted.org/packages/9e/9b/62c60d2f5bc135d2aa1d8c8a86aaf84edb719a59c7f11a4316259e61a298/plac-0.9.6-py2.py3-none-any.whl\n",
            "Collecting preshed<2.1.0,>=2.0.1\n",
            "\u001b[?25l  Downloading https://files.pythonhosted.org/packages/20/93/f222fb957764a283203525ef20e62008675fd0a14ffff8cc1b1490147c63/preshed-2.0.1-cp36-cp36m-manylinux1_x86_64.whl (83kB)\n",
            "\u001b[K     |████████████████████████████████| 92kB 8.9MB/s \n",
            "\u001b[?25hCollecting blis<0.3.0,>=0.2.2\n",
            "\u001b[?25l  Downloading https://files.pythonhosted.org/packages/34/46/b1d0bb71d308e820ed30316c5f0a017cb5ef5f4324bcbc7da3cf9d3b075c/blis-0.2.4-cp36-cp36m-manylinux1_x86_64.whl (3.2MB)\n",
            "\u001b[K     |████████████████████████████████| 3.2MB 36.8MB/s \n",
            "\u001b[?25hRequirement already satisfied: idna<3,>=2.5 in /usr/local/lib/python3.6/dist-packages (from requests>=2.18->allennlp==0.9.0) (2.10)\n",
            "Requirement already satisfied: certifi>=2017.4.17 in /usr/local/lib/python3.6/dist-packages (from requests>=2.18->allennlp==0.9.0) (2020.12.5)\n",
            "Requirement already satisfied: chardet<4,>=3.0.2 in /usr/local/lib/python3.6/dist-packages (from requests>=2.18->allennlp==0.9.0) (3.0.4)\n",
            "Requirement already satisfied: urllib3!=1.25.0,!=1.25.1,<1.26,>=1.21.1 in /usr/local/lib/python3.6/dist-packages (from requests>=2.18->allennlp==0.9.0) (1.24.3)\n",
            "Requirement already satisfied: pyparsing!=2.0.4,!=2.1.2,!=2.1.6,>=2.0.1 in /usr/local/lib/python3.6/dist-packages (from matplotlib>=2.2.3->allennlp==0.9.0) (2.4.7)\n",
            "Requirement already satisfied: cycler>=0.10 in /usr/local/lib/python3.6/dist-packages (from matplotlib>=2.2.3->allennlp==0.9.0) (0.10.0)\n",
            "Requirement already satisfied: python-dateutil>=2.1 in /usr/local/lib/python3.6/dist-packages (from matplotlib>=2.2.3->allennlp==0.9.0) (2.8.1)\n",
            "Requirement already satisfied: kiwisolver>=1.0.1 in /usr/local/lib/python3.6/dist-packages (from matplotlib>=2.2.3->allennlp==0.9.0) (1.3.1)\n",
            "Collecting s3transfer<0.4.0,>=0.3.0\n",
            "\u001b[?25l  Downloading https://files.pythonhosted.org/packages/ea/43/4b4a1b26eb03a429a4c37ca7fdf369d938bd60018fc194e94b8379b0c77c/s3transfer-0.3.4-py2.py3-none-any.whl (69kB)\n",
            "\u001b[K     |████████████████████████████████| 71kB 7.3MB/s \n",
            "\u001b[?25hCollecting botocore<1.20.0,>=1.19.63\n",
            "\u001b[?25l  Downloading https://files.pythonhosted.org/packages/2c/05/0a955f0c92bec7da076fbbc73926dfb13fab8e2b88de7f8eb17c443f28f0/botocore-1.19.63-py2.py3-none-any.whl (7.2MB)\n",
            "\u001b[K     |████████████████████████████████| 7.2MB 34.7MB/s \n",
            "\u001b[?25hCollecting jmespath<1.0.0,>=0.7.1\n",
            "  Downloading https://files.pythonhosted.org/packages/07/cb/5f001272b6faeb23c1c9e0acc04d48eaaf5c862c17709d20e3469c6e0139/jmespath-0.10.0-py2.py3-none-any.whl\n",
            "Requirement already satisfied: future in /usr/local/lib/python3.6/dist-packages (from torch>=1.2.0->allennlp==0.9.0) (0.16.0)\n",
            "Requirement already satisfied: typing-extensions in /usr/local/lib/python3.6/dist-packages (from torch>=1.2.0->allennlp==0.9.0) (3.7.4.3)\n",
            "Requirement already satisfied: dataclasses in /usr/local/lib/python3.6/dist-packages (from torch>=1.2.0->allennlp==0.9.0) (0.8)\n",
            "Requirement already satisfied: sphinx>=1.6.5 in /usr/local/lib/python3.6/dist-packages (from numpydoc>=0.8.0->allennlp==0.9.0) (1.8.5)\n",
            "Requirement already satisfied: joblib>=0.11 in /usr/local/lib/python3.6/dist-packages (from scikit-learn->allennlp==0.9.0) (1.0.0)\n",
            "Requirement already satisfied: wcwidth in /usr/local/lib/python3.6/dist-packages (from ftfy->allennlp==0.9.0) (0.2.5)\n",
            "Requirement already satisfied: regex in /usr/local/lib/python3.6/dist-packages (from pytorch-transformers==1.1.0->allennlp==0.9.0) (2019.12.20)\n",
            "Collecting sentencepiece\n",
            "\u001b[?25l  Downloading https://files.pythonhosted.org/packages/14/67/e42bd1181472c95c8cda79305df848264f2a7f62740995a46945d9797b67/sentencepiece-0.1.95-cp36-cp36m-manylinux2014_x86_64.whl (1.2MB)\n",
            "\u001b[K     |████████████████████████████████| 1.2MB 35.6MB/s \n",
            "\u001b[?25hRequirement already satisfied: protobuf>=3.8.0 in /usr/local/lib/python3.6/dist-packages (from tensorboardX>=1.2->allennlp==0.9.0) (3.12.4)\n",
            "Collecting zope.event\n",
            "  Downloading https://files.pythonhosted.org/packages/9e/85/b45408c64f3b888976f1d5b37eed8d746b8d5729a66a49ec846fda27d371/zope.event-4.5.0-py2.py3-none-any.whl\n",
            "Collecting zope.interface\n",
            "\u001b[?25l  Downloading https://files.pythonhosted.org/packages/82/b0/da8afd9b3bd50c7665ecdac062f182982af1173c9081f9af7261091c5588/zope.interface-5.2.0-cp36-cp36m-manylinux2010_x86_64.whl (236kB)\n",
            "\u001b[K     |████████████████████████████████| 245kB 38.2MB/s \n",
            "\u001b[?25hCollecting greenlet<2.0,>=0.4.17; platform_python_implementation == \"CPython\"\n",
            "\u001b[?25l  Downloading https://files.pythonhosted.org/packages/22/e2/9fbb24cf1ee89813ded3761314562a83a2822ad2bf5682eef0d0c99e2a5d/greenlet-1.0.0-cp36-cp36m-manylinux2010_x86_64.whl (156kB)\n",
            "\u001b[K     |████████████████████████████████| 163kB 47.7MB/s \n",
            "\u001b[?25hRequirement already satisfied: zipp>=0.5 in /usr/local/lib/python3.6/dist-packages (from importlib-metadata; python_version < \"3.8\"->jsonpickle->allennlp==0.9.0) (3.4.0)\n",
            "Requirement already satisfied: MarkupSafe>=0.23 in /usr/local/lib/python3.6/dist-packages (from Jinja2>=2.10.1->flask>=1.0.2->allennlp==0.9.0) (1.1.1)\n",
            "Requirement already satisfied: docutils>=0.11 in /usr/local/lib/python3.6/dist-packages (from sphinx>=1.6.5->numpydoc>=0.8.0->allennlp==0.9.0) (0.16)\n",
            "Requirement already satisfied: Pygments>=2.0 in /usr/local/lib/python3.6/dist-packages (from sphinx>=1.6.5->numpydoc>=0.8.0->allennlp==0.9.0) (2.6.1)\n",
            "Requirement already satisfied: packaging in /usr/local/lib/python3.6/dist-packages (from sphinx>=1.6.5->numpydoc>=0.8.0->allennlp==0.9.0) (20.8)\n",
            "Requirement already satisfied: snowballstemmer>=1.1 in /usr/local/lib/python3.6/dist-packages (from sphinx>=1.6.5->numpydoc>=0.8.0->allennlp==0.9.0) (2.1.0)\n",
            "Requirement already satisfied: babel!=2.0,>=1.3 in /usr/local/lib/python3.6/dist-packages (from sphinx>=1.6.5->numpydoc>=0.8.0->allennlp==0.9.0) (2.9.0)\n",
            "Requirement already satisfied: imagesize in /usr/local/lib/python3.6/dist-packages (from sphinx>=1.6.5->numpydoc>=0.8.0->allennlp==0.9.0) (1.2.0)\n",
            "Requirement already satisfied: sphinxcontrib-websupport in /usr/local/lib/python3.6/dist-packages (from sphinx>=1.6.5->numpydoc>=0.8.0->allennlp==0.9.0) (1.2.4)\n",
            "Requirement already satisfied: alabaster<0.8,>=0.7 in /usr/local/lib/python3.6/dist-packages (from sphinx>=1.6.5->numpydoc>=0.8.0->allennlp==0.9.0) (0.7.12)\n",
            "Requirement already satisfied: sphinxcontrib-serializinghtml in /usr/local/lib/python3.6/dist-packages (from sphinxcontrib-websupport->sphinx>=1.6.5->numpydoc>=0.8.0->allennlp==0.9.0) (1.1.4)\n",
            "Building wheels for collected packages: jsonnet, word2number, overrides, ftfy, parsimonious\n",
            "  Building wheel for jsonnet (setup.py) ... \u001b[?25l\u001b[?25hdone\n",
            "  Created wheel for jsonnet: filename=jsonnet-0.17.0-cp36-cp36m-linux_x86_64.whl size=3387932 sha256=c0ed91effec95594398030cc9fefe4a20ebc2686b2c9ac51f4ffb02ff0f6b123\n",
            "  Stored in directory: /root/.cache/pip/wheels/26/7a/37/7dbcc30a6b4efd17b91ad1f0128b7bbf84813bd4e1cfb8c1e3\n",
            "  Building wheel for word2number (setup.py) ... \u001b[?25l\u001b[?25hdone\n",
            "  Created wheel for word2number: filename=word2number-1.1-cp36-none-any.whl size=5588 sha256=fdc20a7678b1a8b86f47b88c207e09ea37161b789901047959a5d72c39f7e8d2\n",
            "  Stored in directory: /root/.cache/pip/wheels/46/2f/53/5f5c1d275492f2fce1cdab9a9bb12d49286dead829a4078e0e\n",
            "  Building wheel for overrides (setup.py) ... \u001b[?25l\u001b[?25hdone\n",
            "  Created wheel for overrides: filename=overrides-3.1.0-cp36-none-any.whl size=10175 sha256=dc4f08ebad6721e4235b79f0b4ffed5770ec44955021367b05ac45821d7a0f61\n",
            "  Stored in directory: /root/.cache/pip/wheels/5c/24/13/6ef8600e6f147c95e595f1289a86a3cc82ed65df57582c65a9\n",
            "  Building wheel for ftfy (setup.py) ... \u001b[?25l\u001b[?25hdone\n",
            "  Created wheel for ftfy: filename=ftfy-5.8-cp36-none-any.whl size=45613 sha256=b97ed92c3db22a758ab3482701d2af5ee05201f19ff93978590f1537169dcfd6\n",
            "  Stored in directory: /root/.cache/pip/wheels/ba/c0/ef/f28c4da5ac84a4e06ac256ca9182fc34fa57fefffdbc68425b\n",
            "  Building wheel for parsimonious (setup.py) ... \u001b[?25l\u001b[?25hdone\n",
            "  Created wheel for parsimonious: filename=parsimonious-0.8.1-cp36-none-any.whl size=42710 sha256=a52fdc7b02dfbed532d84f34f6e1870aa03fb51f9a3bf37faf2875e9dad0a5e4\n",
            "  Stored in directory: /root/.cache/pip/wheels/b7/8d/e7/a0e74217da5caeb3c1c7689639b6d28ddbf9985b840bc96a9a\n",
            "Successfully built jsonnet word2number overrides ftfy parsimonious\n",
            "\u001b[31mERROR: en-core-web-sm 2.2.5 has requirement spacy>=2.2.2, but you'll have spacy 2.1.9 which is incompatible.\u001b[0m\n",
            "\u001b[31mERROR: botocore 1.19.63 has requirement urllib3<1.27,>=1.25.4; python_version != \"3.4\", but you'll have urllib3 1.24.3 which is incompatible.\u001b[0m\n",
            "\u001b[31mERROR: responses 0.12.1 has requirement urllib3>=1.25.10, but you'll have urllib3 1.24.3 which is incompatible.\u001b[0m\n",
            "Installing collected packages: conllu, jsonpickle, jsonnet, preshed, blis, plac, thinc, spacy, word2number, jmespath, botocore, s3transfer, boto3, overrides, flask-cors, numpydoc, unidecode, ftfy, parsimonious, responses, sentencepiece, pytorch-transformers, tensorboardX, pytorch-pretrained-bert, zope.event, zope.interface, greenlet, gevent, flaky, allennlp\n",
            "  Found existing installation: preshed 3.0.5\n",
            "    Uninstalling preshed-3.0.5:\n",
            "      Successfully uninstalled preshed-3.0.5\n",
            "  Found existing installation: blis 0.4.1\n",
            "    Uninstalling blis-0.4.1:\n",
            "      Successfully uninstalled blis-0.4.1\n",
            "  Found existing installation: plac 1.1.3\n",
            "    Uninstalling plac-1.1.3:\n",
            "      Successfully uninstalled plac-1.1.3\n",
            "  Found existing installation: thinc 7.4.0\n",
            "    Uninstalling thinc-7.4.0:\n",
            "      Successfully uninstalled thinc-7.4.0\n",
            "  Found existing installation: spacy 2.2.4\n",
            "    Uninstalling spacy-2.2.4:\n",
            "      Successfully uninstalled spacy-2.2.4\n",
            "Successfully installed allennlp-0.9.0 blis-0.2.4 boto3-1.16.63 botocore-1.19.63 conllu-1.3.1 flaky-3.7.0 flask-cors-3.0.10 ftfy-5.8 gevent-21.1.2 greenlet-1.0.0 jmespath-0.10.0 jsonnet-0.17.0 jsonpickle-1.5.1 numpydoc-1.1.0 overrides-3.1.0 parsimonious-0.8.1 plac-0.9.6 preshed-2.0.1 pytorch-pretrained-bert-0.6.2 pytorch-transformers-1.1.0 responses-0.12.1 s3transfer-0.3.4 sentencepiece-0.1.95 spacy-2.1.9 tensorboardX-2.1 thinc-7.0.8 unidecode-1.1.2 word2number-1.1 zope.event-4.5.0 zope.interface-5.2.0\n"
          ],
          "name": "stdout"
        },
        {
          "output_type": "execute_result",
          "data": {
            "text/plain": [
              ""
            ]
          },
          "metadata": {
            "tags": []
          },
          "execution_count": 13
        }
      ]
    },
    {
      "cell_type": "markdown",
      "metadata": {
        "id": "bDkhShc8WX9F"
      },
      "source": [
        "Next we implement a AllenNLP data loader for this data. "
      ]
    },
    {
      "cell_type": "code",
      "metadata": {
        "id": "34_HDMys1sLg"
      },
      "source": [
        "from typing import Iterator, List, Dict, Optional\n",
        "import torch\n",
        "import torch.optim as optim\n",
        "import numpy as np\n",
        "from allennlp.data import Instance\n",
        "from allennlp.data.fields import TextField, SequenceLabelField, LabelField\n",
        "from allennlp.data.dataset_readers import DatasetReader\n",
        "from allennlp.common.file_utils import cached_path\n",
        "from allennlp.data.token_indexers import TokenIndexer, SingleIdTokenIndexer\n",
        "from allennlp.data.tokenizers import Token\n",
        "from allennlp.data.vocabulary import Vocabulary\n",
        "from allennlp.models import Model\n",
        "from allennlp.modules.text_field_embedders import TextFieldEmbedder, BasicTextFieldEmbedder\n",
        "from allennlp.modules.token_embedders import Embedding\n",
        "from allennlp.modules.seq2seq_encoders import Seq2SeqEncoder, PytorchSeq2SeqWrapper\n",
        "from allennlp.nn.util import get_text_field_mask, sequence_cross_entropy_with_logits\n",
        "from allennlp.training.metrics import CategoricalAccuracy\n",
        "from allennlp.data.iterators import BucketIterator\n",
        "from allennlp.training.trainer import Trainer\n",
        "from allennlp.predictors import SentenceTaggerPredictor\n",
        "\n",
        "class PolarityDatasetReader(DatasetReader):\n",
        "    \"\"\"\n",
        "    DatasetReader for polarity data like \n",
        "\n",
        "        neg\\tI had better gone to Imperial\n",
        "    \"\"\"\n",
        "    def __init__(self, token_indexers: Dict[str, TokenIndexer] = None,\n",
        "                 tokenize_and_preprocess = lambda text: text.split(\" \")) -> None:\n",
        "        super().__init__(lazy=False)\n",
        "        self.token_indexers = token_indexers or {\"tokens\": SingleIdTokenIndexer()}\n",
        "        self.tokenize_and_preprocess = tokenize_and_preprocess\n",
        "\n",
        "    def text_to_instance(self, tokens: List[Token], label: Optional[str] = None) -> Instance:\n",
        "        sentence_field = TextField(tokens, self.token_indexers)\n",
        "        fields = {\"sentence\": sentence_field}\n",
        "\n",
        "        if label:\n",
        "            label_field = LabelField(label=label)\n",
        "            fields[\"label\"] = label_field\n",
        "\n",
        "        return Instance(fields)\n",
        "\n",
        "    def _tokenize_and_preprocess(text):\n",
        "        return text.split(\" \")\n",
        "\n",
        "    def _read(self, file_path: str) -> Iterator[Instance]:\n",
        "        with open(file_path) as f:\n",
        "            for line in f:\n",
        "                label, text = line.split(\"\\t\")\n",
        "                tokens = [Token(word) for word in self.tokenize_and_preprocess(text)]\n",
        "                yield self.text_to_instance(tokens, label)\n",
        "\n",
        "\n"
      ],
      "execution_count": 14,
      "outputs": []
    },
    {
      "cell_type": "markdown",
      "metadata": {
        "id": "isDjFO7LXYf-"
      },
      "source": [
        "# Preprocessing [7pts]\n",
        "\n",
        "In order to fit our model, we will need to tokenize and preprocess the data. Write a dataset loader that preprocesses the data.\n",
        "\n",
        "Tokenization is an important field of NLP, and can make a large difference to downstream performance. Luckily fo us, the dataset has already been tokenized, so we just need to split the input text by whitespace to get the tokens. The tokenization is not perfect though. Your preprocessing function should should fix all instances where \"Mr.\" have been tokenized as two tokens to instances where \"Mr.\" is a single token.\n",
        "\n",
        "Implement the above by changing and possibly extending the code below."
      ]
    },
    {
      "cell_type": "code",
      "metadata": {
        "id": "3As4zBmSyZhW",
        "colab": {
          "base_uri": "https://localhost:8080/"
        },
        "outputId": "d5c40012-a2bd-4c7b-a58d-923c7b06e178"
      },
      "source": [
        "def collapse_mr_dot(text):\n",
        "    \"\"\"\n",
        "    Args:\n",
        "      tokens: a list of tokens\n",
        "    \"\"\"\n",
        "    result = []\n",
        "    result = text.split() \n",
        "    if \"mr\" in result: \n",
        "      result = [w.replace('mr', 'mr.') for w in result]\n",
        "      indices = [i for i, x in enumerate(result) if x == \"mr.\"]\n",
        "      indices = list(reversed(indices))\n",
        "      for i in indices:\n",
        "        if (result[i+1] == '.'):\n",
        "          result.pop(i+1)\n",
        "    return result \n",
        "\n",
        "\n",
        "torch.manual_seed(1)\n",
        "reader = PolarityDatasetReader(tokenize_and_preprocess=collapse_mr_dot)\n",
        "data_pre = reader.read(cached_path(\"rt-polaritydata/rt-polarity.utf8.tsv\"))\n",
        "rt_polarity_pre = data_pre\n",
        "for instance in data_pre:\n",
        "  if \"mr.\" in [t.text for t in instance['sentence']]:\n",
        "    print(instance['sentence'])\n",
        "    break"
      ],
      "execution_count": 15,
      "outputs": [
        {
          "output_type": "stream",
          "text": [
            "10662it [00:00, 12529.43it/s]"
          ],
          "name": "stderr"
        },
        {
          "output_type": "stream",
          "text": [
            "TextField of length 34 with text: \n",
            " \t\t[as, is, often, the, case, with, ambitious, ,, eager, first-time, filmmakers, ,, mr., murray, ,, a,\n",
            "\t\tprolific, director, of, music, videos, ,, stuffs, his, debut, with, more, plot, than, it, can,\n",
            "\t\tcomfortably, hold, .]\n",
            " \t\tand TokenIndexers : {'tokens': 'SingleIdTokenIndexer'}\n"
          ],
          "name": "stdout"
        },
        {
          "output_type": "stream",
          "text": [
            "\n"
          ],
          "name": "stderr"
        }
      ]
    },
    {
      "cell_type": "markdown",
      "metadata": {
        "id": "I-JYoGSCDjuj"
      },
      "source": [
        "## Logistic Regression\n",
        "\n",
        "Below we provide a simple implementation of a model, that combined with the corresponding loss, amounts to logistic regression.  "
      ]
    },
    {
      "cell_type": "code",
      "metadata": {
        "id": "cBogFeKugF0v"
      },
      "source": [
        "import torch\n",
        "import torch.nn as nn\n",
        "\n",
        "# Model\n",
        "class LogisticRegression(nn.Module):\n",
        "    \"\"\"\n",
        "    Simple Logistic Regression implementation based on torchtext input format.\n",
        "    \"\"\"\n",
        "    def __init__(self, num_features):\n",
        "        super(LogisticRegression, self).__init__()\n",
        "        self.weights = nn.Parameter(torch.normal(torch.zeros(num_features)), \n",
        "                                requires_grad=True)\n",
        "            \n",
        "    def forward(self, sentence):\n",
        "        \"\"\"\n",
        "        Args:\n",
        "          sentence: a dictionary of ...\n",
        "        \"\"\"\n",
        "        tokens = sentence['tokens']\n",
        "        active_tokens_mask = get_text_field_mask(sentence)\n",
        "        # retrieve weights and set those to zero that come from padding cells \n",
        "        filtered = active_tokens_mask * self.weights[tokens]\n",
        "        # sum pooling along the token position dimension \n",
        "        logits = filtered.sum(dim=1)\n",
        "        return logits\n",
        "\n",
        "\n",
        "# model = LogisticRegression(vocab.get_vocab_size(\"tokens\"))\n",
        "# model.forward(sentence)"
      ],
      "execution_count": 16,
      "outputs": []
    },
    {
      "cell_type": "markdown",
      "metadata": {
        "id": "ZKGwAaYEEm0-"
      },
      "source": [
        "## Formulation [5pts]\n",
        "\n",
        "In the class we have presented the model as encoder $f(\\mathbf{x})$ follwed by a linear decoder\n",
        "$$s(\\mathbf{x}) = \\boldsymbol{\\theta}^T  f(\\mathbf{x}) = \\boldsymbol{\\theta}^T \\sum_{w\\in \\mathbf{x}} f(w) $$ where $f(\\mathbf{x})$ is the representation of the input text. \n",
        "\n",
        "The implementation here achieves the same output, but the calculation is performed slightly differently due to technical reasons when working with pytorch. Can you give a mathematical description of this implementation here that captures the order in which computation happens? Below $f(w)$ is a one-hot representation of a word, as per lecture 2. \n",
        "\n",
        "The candidate answers are:\n",
        "\n",
        "1. $s(\\mathbf{x}) = \\left[\\sum_{w\\in \\mathbf{x}}  f(w)  \\right]^T \\boldsymbol{\\theta} $\n",
        "2. $s(\\mathbf{x}) = \\sum_{w\\in \\mathbf{x}}  \\boldsymbol{\\theta}^T f(w)$\n",
        "3. $s(\\mathbf{x}) = \\frac{1}{|\\mathbf{x}|}\\boldsymbol{\\theta}^T \\sum_{\\mathbf{x}\\in x}  f(w)$\n",
        "4. $s(\\mathbf{x}) = \\left[\\sum_{w\\in \\mathbf{x}}  f(w)  \\right]^T \\boldsymbol{\\theta} \\frac{1}{|\\mathbf{x}|} $"
      ]
    },
    {
      "cell_type": "code",
      "metadata": {
        "id": "FjKT0eJzvyw8"
      },
      "source": [
        "#@title Answers { run: \"auto\" }\n",
        "QFormulation = \"Eq 2\" #@param [\"Eq 1\", \"Eq 2\", \"Eq 3\", \"Eq 4\", \"None of the above\"]"
      ],
      "execution_count": 17,
      "outputs": []
    },
    {
      "cell_type": "markdown",
      "metadata": {
        "id": "J9ybvSIOFiLR"
      },
      "source": [
        "## Mean Pooling [8pts]\n",
        "\n",
        "Create a new version of the logistic regression module, using mean pooling. "
      ]
    },
    {
      "cell_type": "code",
      "metadata": {
        "id": "IPYSGdhmFpQH"
      },
      "source": [
        "# Model\n",
        "class LogisticRegressionMeanPooling(nn.Module):\n",
        "    \"\"\"\n",
        "    Simple Logistic Regression implementation based on torchtext input format.\n",
        "    \"\"\"\n",
        "    def __init__(self, num_features):\n",
        "        super(LogisticRegressionMeanPooling, self).__init__()\n",
        "        self.weights = nn.Parameter(torch.normal(torch.zeros(num_features)), \n",
        "                                requires_grad=True)\n",
        "            \n",
        "    def forward(self, sentence):\n",
        "        \"\"\"\n",
        "        Args:\n",
        "          sentence: a dictionary of ...\n",
        "        \"\"\"\n",
        "        tokens = sentence['tokens']\n",
        "        active_tokens_mask = get_text_field_mask(sentence)\n",
        "        # retrieve weights and set those to zero that come from padding cells \n",
        "        filtered = active_tokens_mask * self.weights[tokens]\n",
        "        # mean pooling along the token position dimension \n",
        "        logits = filtered.mean(dim=1)\n",
        "        return logits\n"
      ],
      "execution_count": 18,
      "outputs": []
    },
    {
      "cell_type": "markdown",
      "metadata": {
        "id": "XU9QcbnWG6PK"
      },
      "source": [
        "## Add Features [20pts]\n",
        "\n",
        "Add the features below to the preprocessing pipeline shown below. \n",
        "\n",
        "### Bias Feature [6 pts]\n",
        "\n",
        "It is common practice to add a *bias* term of linear classifiers:\n",
        "\n",
        "$$s(\\mathbf{x}) = \\boldsymbol{\\theta}^T  f(\\mathbf{x}) + b $$\n",
        "\n",
        "One way to achieve this in general is to augment $f(\\mathbf{x}) $ with an extra component that is always set to $1$. In our implementation, this can be achieved by augmenting the sentence field appropriately when loading the data, and setting the `add_features` argument in the dataset loader. Implement this below.  \n",
        "\n",
        "### Bigram Feature [7 pts]\n",
        "\n",
        "Use the `add_features` pipeline to implement a feature that captures whether word *pairs* $w_1, w_2$ appear consecutively in the sentence.  This feature should be *combined* with the standard unigram and bias features.   \n",
        "\n",
        "### Max Pooling [7 pts]\n",
        "\n",
        "Use the `add_features` pipeline to implement max pooling such that any feature appearing more than once in the sentence is only counted once, as per the lecture slides of week 1. "
      ]
    },
    {
      "cell_type": "code",
      "metadata": {
        "id": "nmLgBoZFHms6",
        "colab": {
          "base_uri": "https://localhost:8080/"
        },
        "outputId": "01af5f32-bd66-466a-eae6-b6acea54d41a"
      },
      "source": [
        "def add_features(text):\n",
        "  \"\"\"\n",
        "  Args:\n",
        "    features: a list of tokens\n",
        "  \"\"\"\n",
        "  # TODO implement this function based on instructions above. \n",
        "  result = []\n",
        "  a = text.split()\n",
        "  #Adding bias to start of sentence\n",
        "  a.insert(0,\"<bias>\")\n",
        "\n",
        "\n",
        "  #Bias, Unigram and Bigrams\n",
        "  for i in range(len(a)-1):\n",
        "    a.append(a[i] +\" \" + a[i+1])\n",
        "  \n",
        "  #Max Pooling\n",
        "  for w in a:\n",
        "      if w not in result:\n",
        "          result.append(w)\n",
        "  return result\n",
        "\n",
        "reader = PolarityDatasetReader(tokenize_and_preprocess=add_features)\n",
        "data_pre_2 = reader.read(cached_path(\"rt-polaritydata/rt-polarity.utf8.tsv\"))\n",
        "data_pre_2[10]['sentence'][:]"
      ],
      "execution_count": 19,
      "outputs": [
        {
          "output_type": "stream",
          "text": [
            "10662it [00:01, 8065.94it/s]\n"
          ],
          "name": "stderr"
        },
        {
          "output_type": "execute_result",
          "data": {
            "text/plain": [
              "[<bias>,\n",
              " a,\n",
              " sentimental,\n",
              " mess,\n",
              " that,\n",
              " never,\n",
              " rings,\n",
              " true,\n",
              " .,\n",
              " <bias> a,\n",
              " a sentimental,\n",
              " sentimental mess,\n",
              " mess that,\n",
              " that never,\n",
              " never rings,\n",
              " rings true,\n",
              " true .]"
            ]
          },
          "metadata": {
            "tags": []
          },
          "execution_count": 19
        }
      ]
    },
    {
      "cell_type": "markdown",
      "metadata": {
        "id": "sy8JnMkZJQEw"
      },
      "source": [
        "## Hyperparameters Search and Analysis [10 pts]\n",
        "\n",
        "### Early Stopping [5pts]\n",
        "\n",
        "Finding the right number of iterations is important (why can running to convergence be bad?). One way to to do this is to iterate for a max number K, and then choose the iteration with the largest dev set performance. But this can be slow and unnecessary if we assume that dev-set performance doesn't go up again once it starts to go down (dev set performance concave). Implement a variant of the training loop that implements this idea.  Specifically, the loop should terminate if there has been no increase in development set accuracy when comparing the current accuracy to that from 10 epochs ago. \n",
        "\n",
        "### Grid Search [5pts]\n",
        "Using all the features you developed in the above \"Add Features\" section (or the base model in case you could not address the question), find the best combination of \n",
        "\n",
        "* Learning Rate in {1.0, 0.1}\n",
        "* Number of Training epochs (via early stopping, use 1000 as maximum)\n",
        "* L2 regularisation weight in {0.001, 0.0001, 0}\n",
        "\n",
        "After grid search, the value of the variables `best_acc`, `best_l2`, `best_lr` and `best_epochs` should be appropriately. \n"
      ]
    },
    {
      "cell_type": "code",
      "metadata": {
        "id": "uwHMvGhWo6ej",
        "colab": {
          "base_uri": "https://localhost:8080/"
        },
        "outputId": "7a0df37a-354a-4188-cbdb-882ad060dd4e"
      },
      "source": [
        "def accuracy(dataset, model, iterator):\n",
        "  # Testing the model and returning the accuracy on the given dataset\n",
        "  total = 0\n",
        "  correct = 0\n",
        "  for batch in iterator(dataset, num_epochs=1):\n",
        "      sentence = batch['sentence']\n",
        "      label = batch['label']\n",
        "      output = model(sentence)\n",
        "      total += len(label)\n",
        "      prediction = (output > 0).long()\n",
        "      correct += (prediction == label).sum()\n",
        "\n",
        "  return float(correct) / total  \n",
        "\n",
        "def training_loop(model, iterator, train_set, dev_set, num_epochs=100,\n",
        "                  lr=0.1, weight_decay=0.0):\n",
        "  \"\"\"\n",
        "  Should return the best dev_set accuracy and the number of epochs used. \n",
        "  \"\"\"\n",
        "  criterion = torch.nn.BCEWithLogitsLoss()  \n",
        "  optimizer = torch.optim.SGD(model.parameters(), lr=lr, \n",
        "                              weight_decay=weight_decay)  \n",
        "  # Training the Model\n",
        "  epoch_accuracies = []\n",
        "  best_epoch = 0\n",
        "  best_accuracy = 0.0\n",
        "  for epoch in range(num_epochs):\n",
        "      for i, batch in enumerate(iterator(train_set,num_epochs=1)):\n",
        "          sentence = batch['sentence']\n",
        "          label = batch['label'].float()\n",
        "\n",
        "          # Forward + Backward + Optimize\n",
        "          optimizer.zero_grad()\n",
        "          logits = model(sentence)\n",
        "          loss = criterion(logits, label)\n",
        "          loss.backward()\n",
        "          optimizer.step()\n",
        "\n",
        "          if (i+1) % 100 == 0:\n",
        "              print ('Epoch: [%d/%d], Step: [%d/%d], Loss: %.4f, Dev: %.4f' \n",
        "                     % (epoch+1, num_epochs, i+1, len(train_set)//iterator._batch_size, \n",
        "                        loss.data, accuracy(dev_set, model, iterator)))\n",
        "      \n",
        "      epoch_accuracies.append(accuracy(dev_set, model, iterator))\n",
        "      if epoch_accuracies[-1] > best_accuracy:\n",
        "          best_accuracy = epoch_accuracies[-1]\n",
        "          best_epoch = epoch\n",
        "          \n",
        "      # TODO: implement early stopping here \n",
        "      if epoch > 9:\n",
        "        if (epoch_accuracies[-1] <= best_accuracy):\n",
        "          best_epoch = epoch-10\n",
        "          break             \n",
        "  return best_accuracy, best_epoch\n",
        "\n",
        "reader = PolarityDatasetReader(tokenize_and_preprocess=add_features)\n",
        "data = reader.read(cached_path(\"rt-polaritydata/rt-polarity.utf8.tsv\"))\n",
        "training_data = data[0:-1000]\n",
        "dev_data = data[-1000:]\n",
        "vocab = Vocabulary.from_instances(training_data)\n",
        "iterator = BucketIterator(batch_size=32, sorting_keys=[(\"sentence\", \"num_tokens\")])\n",
        "iterator.index_with(vocab)\n",
        "print(len(training_data))\n",
        "print(len(dev_data))\n",
        "print(len(data))\n",
        "\n",
        "best_acc = 0.0 # best accuracy achieved \n",
        "best_lr = 0.0 # best learning rate at best accuracy \n",
        "best_l2 = 0.0 # best l2 regularizing weight\n",
        "best_epochs = 0 # best number of epochs\n",
        "# TODO: implement grid search to make sure the above 4 variable have \n",
        "\n",
        "model = LogisticRegression(vocab.get_vocab_size(\"tokens\"))\n",
        "\n",
        "\n",
        "lrs = [1, 0.1]\n",
        "l2s = [0,0.0001,0.00001]\n",
        "results = {}\n",
        "\n",
        "for lr in lrs:\n",
        "  for l2 in l2s:\n",
        "    best_acc, best_epochs =  training_loop(model, iterator, training_data, dev_data, num_epochs=1000, lr=lr, weight_decay=l2)\n",
        "    results[(lr,l2)] = (best_acc, best_epochs)\n",
        "\n",
        "import operator\n",
        "sorted_results = sorted(results.items(), key=operator.itemgetter(1),reverse=True)\n",
        "\n",
        "\n",
        "best_acc = next(iter(sorted_results))[1][0]\n",
        "best_lr = next(iter(sorted_results))[0][0]\n",
        "best_l2 = next(iter(sorted_results))[0][1]\n",
        "best_epochs = next(iter(sorted_results))[1][1]\n",
        "print(\"best_acc =\",  best_acc ,\"best_epochs = \",best_epochs,\"best_lr = \",best_lr,\"best_l2 = \",best_l2)"
      ],
      "execution_count": 22,
      "outputs": [
        {
          "output_type": "stream",
          "text": [
            "10662it [00:01, 6317.31it/s]\n",
            "100%|██████████| 9662/9662 [00:00<00:00, 25526.94it/s]\n"
          ],
          "name": "stderr"
        },
        {
          "output_type": "stream",
          "text": [
            "9662\n",
            "1000\n",
            "10662\n",
            "Epoch: [1/1000], Step: [100/301], Loss: 2.0291, Dev: 0.7940\n",
            "Epoch: [1/1000], Step: [200/301], Loss: 1.5523, Dev: 0.8830\n",
            "Epoch: [1/1000], Step: [300/301], Loss: 1.6706, Dev: 0.8840\n",
            "Epoch: [2/1000], Step: [100/301], Loss: 1.8894, Dev: 0.8870\n",
            "Epoch: [2/1000], Step: [200/301], Loss: 2.1979, Dev: 0.8920\n",
            "Epoch: [2/1000], Step: [300/301], Loss: 1.6744, Dev: 0.8800\n",
            "Epoch: [3/1000], Step: [100/301], Loss: 0.6697, Dev: 0.9090\n",
            "Epoch: [3/1000], Step: [200/301], Loss: 1.2616, Dev: 0.8980\n",
            "Epoch: [3/1000], Step: [300/301], Loss: 1.0185, Dev: 0.9040\n",
            "Epoch: [4/1000], Step: [100/301], Loss: 0.8178, Dev: 0.9180\n",
            "Epoch: [4/1000], Step: [200/301], Loss: 0.3593, Dev: 0.9380\n",
            "Epoch: [4/1000], Step: [300/301], Loss: 0.2809, Dev: 0.8980\n",
            "Epoch: [5/1000], Step: [100/301], Loss: 0.7700, Dev: 0.9000\n",
            "Epoch: [5/1000], Step: [200/301], Loss: 0.3632, Dev: 0.9320\n",
            "Epoch: [5/1000], Step: [300/301], Loss: 1.4194, Dev: 0.9610\n",
            "Epoch: [6/1000], Step: [100/301], Loss: 0.7761, Dev: 0.9350\n",
            "Epoch: [6/1000], Step: [200/301], Loss: 0.5680, Dev: 0.9110\n",
            "Epoch: [6/1000], Step: [300/301], Loss: 0.4047, Dev: 0.9280\n",
            "Epoch: [7/1000], Step: [100/301], Loss: 0.2636, Dev: 0.9270\n",
            "Epoch: [7/1000], Step: [200/301], Loss: 0.4180, Dev: 0.9250\n",
            "Epoch: [7/1000], Step: [300/301], Loss: 0.6045, Dev: 0.9430\n",
            "Epoch: [8/1000], Step: [100/301], Loss: 0.0836, Dev: 0.9340\n",
            "Epoch: [8/1000], Step: [200/301], Loss: 0.7684, Dev: 0.9310\n",
            "Epoch: [8/1000], Step: [300/301], Loss: 0.3883, Dev: 0.9390\n",
            "Epoch: [9/1000], Step: [100/301], Loss: 0.1916, Dev: 0.9300\n",
            "Epoch: [9/1000], Step: [200/301], Loss: 0.2526, Dev: 0.9390\n",
            "Epoch: [9/1000], Step: [300/301], Loss: 0.2517, Dev: 0.9270\n",
            "Epoch: [10/1000], Step: [100/301], Loss: 0.0736, Dev: 0.9280\n",
            "Epoch: [10/1000], Step: [200/301], Loss: 0.0553, Dev: 0.9390\n",
            "Epoch: [10/1000], Step: [300/301], Loss: 0.2876, Dev: 0.9300\n",
            "Epoch: [11/1000], Step: [100/301], Loss: 0.1483, Dev: 0.9360\n",
            "Epoch: [11/1000], Step: [200/301], Loss: 0.0538, Dev: 0.9290\n",
            "Epoch: [11/1000], Step: [300/301], Loss: 0.4405, Dev: 0.9340\n",
            "Epoch: [1/1000], Step: [100/301], Loss: 0.0803, Dev: 0.9380\n",
            "Epoch: [1/1000], Step: [200/301], Loss: 0.2171, Dev: 0.9390\n",
            "Epoch: [1/1000], Step: [300/301], Loss: 0.1111, Dev: 0.9300\n",
            "Epoch: [2/1000], Step: [100/301], Loss: 0.0506, Dev: 0.9290\n",
            "Epoch: [2/1000], Step: [200/301], Loss: 0.0491, Dev: 0.9240\n",
            "Epoch: [2/1000], Step: [300/301], Loss: 0.2138, Dev: 0.9300\n",
            "Epoch: [3/1000], Step: [100/301], Loss: 0.1803, Dev: 0.9230\n",
            "Epoch: [3/1000], Step: [200/301], Loss: 0.1633, Dev: 0.9310\n",
            "Epoch: [3/1000], Step: [300/301], Loss: 0.2294, Dev: 0.9330\n",
            "Epoch: [4/1000], Step: [100/301], Loss: 0.0523, Dev: 0.9330\n",
            "Epoch: [4/1000], Step: [200/301], Loss: 0.0554, Dev: 0.9270\n",
            "Epoch: [4/1000], Step: [300/301], Loss: 0.1735, Dev: 0.9410\n",
            "Epoch: [5/1000], Step: [100/301], Loss: 0.1173, Dev: 0.9310\n",
            "Epoch: [5/1000], Step: [200/301], Loss: 0.2811, Dev: 0.9410\n",
            "Epoch: [5/1000], Step: [300/301], Loss: 0.1232, Dev: 0.9300\n",
            "Epoch: [6/1000], Step: [100/301], Loss: 0.0302, Dev: 0.9300\n",
            "Epoch: [6/1000], Step: [200/301], Loss: 0.2305, Dev: 0.9330\n",
            "Epoch: [6/1000], Step: [300/301], Loss: 0.2333, Dev: 0.9390\n",
            "Epoch: [7/1000], Step: [100/301], Loss: 0.0402, Dev: 0.9350\n",
            "Epoch: [7/1000], Step: [200/301], Loss: 0.0545, Dev: 0.9330\n",
            "Epoch: [7/1000], Step: [300/301], Loss: 0.0603, Dev: 0.9400\n",
            "Epoch: [8/1000], Step: [100/301], Loss: 0.1169, Dev: 0.9440\n",
            "Epoch: [8/1000], Step: [200/301], Loss: 0.0562, Dev: 0.9220\n",
            "Epoch: [8/1000], Step: [300/301], Loss: 0.0496, Dev: 0.9320\n",
            "Epoch: [9/1000], Step: [100/301], Loss: 0.0876, Dev: 0.9250\n",
            "Epoch: [9/1000], Step: [200/301], Loss: 0.1809, Dev: 0.9310\n",
            "Epoch: [9/1000], Step: [300/301], Loss: 0.0821, Dev: 0.9420\n",
            "Epoch: [10/1000], Step: [100/301], Loss: 0.1442, Dev: 0.9350\n",
            "Epoch: [10/1000], Step: [200/301], Loss: 0.3629, Dev: 0.9340\n",
            "Epoch: [10/1000], Step: [300/301], Loss: 0.0267, Dev: 0.9380\n",
            "Epoch: [11/1000], Step: [100/301], Loss: 0.0406, Dev: 0.9370\n",
            "Epoch: [11/1000], Step: [200/301], Loss: 0.0559, Dev: 0.9300\n",
            "Epoch: [11/1000], Step: [300/301], Loss: 0.0651, Dev: 0.9420\n",
            "Epoch: [1/1000], Step: [100/301], Loss: 0.0513, Dev: 0.9310\n",
            "Epoch: [1/1000], Step: [200/301], Loss: 0.2647, Dev: 0.9420\n",
            "Epoch: [1/1000], Step: [300/301], Loss: 0.0807, Dev: 0.9330\n",
            "Epoch: [2/1000], Step: [100/301], Loss: 0.0633, Dev: 0.9290\n",
            "Epoch: [2/1000], Step: [200/301], Loss: 0.0388, Dev: 0.9340\n",
            "Epoch: [2/1000], Step: [300/301], Loss: 0.0757, Dev: 0.9290\n",
            "Epoch: [3/1000], Step: [100/301], Loss: 0.0346, Dev: 0.9300\n",
            "Epoch: [3/1000], Step: [200/301], Loss: 0.0512, Dev: 0.9420\n",
            "Epoch: [3/1000], Step: [300/301], Loss: 0.1101, Dev: 0.9410\n",
            "Epoch: [4/1000], Step: [100/301], Loss: 0.0501, Dev: 0.9350\n",
            "Epoch: [4/1000], Step: [200/301], Loss: 0.0287, Dev: 0.9290\n",
            "Epoch: [4/1000], Step: [300/301], Loss: 0.1675, Dev: 0.9310\n",
            "Epoch: [5/1000], Step: [100/301], Loss: 0.0479, Dev: 0.9290\n",
            "Epoch: [5/1000], Step: [200/301], Loss: 0.0491, Dev: 0.9330\n",
            "Epoch: [5/1000], Step: [300/301], Loss: 0.0884, Dev: 0.9330\n",
            "Epoch: [6/1000], Step: [100/301], Loss: 0.0270, Dev: 0.9370\n",
            "Epoch: [6/1000], Step: [200/301], Loss: 0.0669, Dev: 0.9410\n",
            "Epoch: [6/1000], Step: [300/301], Loss: 0.0518, Dev: 0.9280\n",
            "Epoch: [7/1000], Step: [100/301], Loss: 0.0399, Dev: 0.9290\n",
            "Epoch: [7/1000], Step: [200/301], Loss: 0.0575, Dev: 0.9240\n",
            "Epoch: [7/1000], Step: [300/301], Loss: 0.0342, Dev: 0.9370\n",
            "Epoch: [8/1000], Step: [100/301], Loss: 0.0161, Dev: 0.9300\n",
            "Epoch: [8/1000], Step: [200/301], Loss: 0.0444, Dev: 0.9280\n",
            "Epoch: [8/1000], Step: [300/301], Loss: 0.0861, Dev: 0.9320\n",
            "Epoch: [9/1000], Step: [100/301], Loss: 0.0351, Dev: 0.9320\n",
            "Epoch: [9/1000], Step: [200/301], Loss: 0.0253, Dev: 0.9300\n",
            "Epoch: [9/1000], Step: [300/301], Loss: 0.0387, Dev: 0.9280\n",
            "Epoch: [10/1000], Step: [100/301], Loss: 0.0272, Dev: 0.9380\n",
            "Epoch: [10/1000], Step: [200/301], Loss: 0.0457, Dev: 0.9260\n",
            "Epoch: [10/1000], Step: [300/301], Loss: 0.0321, Dev: 0.9320\n",
            "Epoch: [11/1000], Step: [100/301], Loss: 0.0373, Dev: 0.9300\n",
            "Epoch: [11/1000], Step: [200/301], Loss: 0.0429, Dev: 0.9270\n",
            "Epoch: [11/1000], Step: [300/301], Loss: 0.0206, Dev: 0.9390\n",
            "Epoch: [1/1000], Step: [100/301], Loss: 0.0319, Dev: 0.9320\n",
            "Epoch: [1/1000], Step: [200/301], Loss: 0.1022, Dev: 0.9320\n",
            "Epoch: [1/1000], Step: [300/301], Loss: 0.0186, Dev: 0.9280\n",
            "Epoch: [2/1000], Step: [100/301], Loss: 0.1101, Dev: 0.9310\n",
            "Epoch: [2/1000], Step: [200/301], Loss: 0.0517, Dev: 0.9310\n",
            "Epoch: [2/1000], Step: [300/301], Loss: 0.0421, Dev: 0.9320\n",
            "Epoch: [3/1000], Step: [100/301], Loss: 0.0573, Dev: 0.9310\n",
            "Epoch: [3/1000], Step: [200/301], Loss: 0.0140, Dev: 0.9310\n",
            "Epoch: [3/1000], Step: [300/301], Loss: 0.0329, Dev: 0.9320\n",
            "Epoch: [4/1000], Step: [100/301], Loss: 0.0448, Dev: 0.9300\n",
            "Epoch: [4/1000], Step: [200/301], Loss: 0.0275, Dev: 0.9310\n",
            "Epoch: [4/1000], Step: [300/301], Loss: 0.0317, Dev: 0.9320\n",
            "Epoch: [5/1000], Step: [100/301], Loss: 0.0323, Dev: 0.9320\n",
            "Epoch: [5/1000], Step: [200/301], Loss: 0.0348, Dev: 0.9320\n",
            "Epoch: [5/1000], Step: [300/301], Loss: 0.0295, Dev: 0.9310\n",
            "Epoch: [6/1000], Step: [100/301], Loss: 0.0204, Dev: 0.9300\n",
            "Epoch: [6/1000], Step: [200/301], Loss: 0.0429, Dev: 0.9310\n",
            "Epoch: [6/1000], Step: [300/301], Loss: 0.0257, Dev: 0.9310\n",
            "Epoch: [7/1000], Step: [100/301], Loss: 0.0213, Dev: 0.9310\n",
            "Epoch: [7/1000], Step: [200/301], Loss: 0.0240, Dev: 0.9300\n",
            "Epoch: [7/1000], Step: [300/301], Loss: 0.0320, Dev: 0.9310\n",
            "Epoch: [8/1000], Step: [100/301], Loss: 0.0277, Dev: 0.9310\n",
            "Epoch: [8/1000], Step: [200/301], Loss: 0.0321, Dev: 0.9310\n",
            "Epoch: [8/1000], Step: [300/301], Loss: 0.0371, Dev: 0.9310\n",
            "Epoch: [9/1000], Step: [100/301], Loss: 0.0366, Dev: 0.9290\n",
            "Epoch: [9/1000], Step: [200/301], Loss: 0.0246, Dev: 0.9320\n",
            "Epoch: [9/1000], Step: [300/301], Loss: 0.0125, Dev: 0.9310\n",
            "Epoch: [10/1000], Step: [100/301], Loss: 0.0606, Dev: 0.9290\n",
            "Epoch: [10/1000], Step: [200/301], Loss: 0.0212, Dev: 0.9310\n",
            "Epoch: [10/1000], Step: [300/301], Loss: 0.0647, Dev: 0.9310\n",
            "Epoch: [11/1000], Step: [100/301], Loss: 0.0316, Dev: 0.9300\n",
            "Epoch: [11/1000], Step: [200/301], Loss: 0.0258, Dev: 0.9300\n",
            "Epoch: [11/1000], Step: [300/301], Loss: 0.0178, Dev: 0.9310\n",
            "Epoch: [1/1000], Step: [100/301], Loss: 0.0307, Dev: 0.9290\n",
            "Epoch: [1/1000], Step: [200/301], Loss: 0.0718, Dev: 0.9310\n",
            "Epoch: [1/1000], Step: [300/301], Loss: 0.0272, Dev: 0.9310\n",
            "Epoch: [2/1000], Step: [100/301], Loss: 0.0321, Dev: 0.9310\n",
            "Epoch: [2/1000], Step: [200/301], Loss: 0.0951, Dev: 0.9290\n",
            "Epoch: [2/1000], Step: [300/301], Loss: 0.0811, Dev: 0.9300\n",
            "Epoch: [3/1000], Step: [100/301], Loss: 0.0446, Dev: 0.9310\n",
            "Epoch: [3/1000], Step: [200/301], Loss: 0.0294, Dev: 0.9310\n",
            "Epoch: [3/1000], Step: [300/301], Loss: 0.0321, Dev: 0.9310\n",
            "Epoch: [4/1000], Step: [100/301], Loss: 0.0257, Dev: 0.9310\n",
            "Epoch: [4/1000], Step: [200/301], Loss: 0.0333, Dev: 0.9310\n",
            "Epoch: [4/1000], Step: [300/301], Loss: 0.0290, Dev: 0.9290\n",
            "Epoch: [5/1000], Step: [100/301], Loss: 0.0482, Dev: 0.9310\n",
            "Epoch: [5/1000], Step: [200/301], Loss: 0.0339, Dev: 0.9300\n",
            "Epoch: [5/1000], Step: [300/301], Loss: 0.0431, Dev: 0.9300\n",
            "Epoch: [6/1000], Step: [100/301], Loss: 0.0241, Dev: 0.9300\n",
            "Epoch: [6/1000], Step: [200/301], Loss: 0.0310, Dev: 0.9290\n",
            "Epoch: [6/1000], Step: [300/301], Loss: 0.0275, Dev: 0.9300\n",
            "Epoch: [7/1000], Step: [100/301], Loss: 0.0289, Dev: 0.9290\n",
            "Epoch: [7/1000], Step: [200/301], Loss: 0.0367, Dev: 0.9300\n",
            "Epoch: [7/1000], Step: [300/301], Loss: 0.0540, Dev: 0.9300\n",
            "Epoch: [8/1000], Step: [100/301], Loss: 0.0236, Dev: 0.9300\n",
            "Epoch: [8/1000], Step: [200/301], Loss: 0.0493, Dev: 0.9290\n",
            "Epoch: [8/1000], Step: [300/301], Loss: 0.0485, Dev: 0.9290\n",
            "Epoch: [9/1000], Step: [100/301], Loss: 0.0357, Dev: 0.9300\n",
            "Epoch: [9/1000], Step: [200/301], Loss: 0.1244, Dev: 0.9290\n",
            "Epoch: [9/1000], Step: [300/301], Loss: 0.0467, Dev: 0.9320\n",
            "Epoch: [10/1000], Step: [100/301], Loss: 0.0291, Dev: 0.9300\n",
            "Epoch: [10/1000], Step: [200/301], Loss: 0.0699, Dev: 0.9290\n",
            "Epoch: [10/1000], Step: [300/301], Loss: 0.0318, Dev: 0.9300\n",
            "Epoch: [11/1000], Step: [100/301], Loss: 0.0578, Dev: 0.9300\n",
            "Epoch: [11/1000], Step: [200/301], Loss: 0.0374, Dev: 0.9300\n",
            "Epoch: [11/1000], Step: [300/301], Loss: 0.0973, Dev: 0.9290\n",
            "Epoch: [1/1000], Step: [100/301], Loss: 0.0342, Dev: 0.9290\n",
            "Epoch: [1/1000], Step: [200/301], Loss: 0.0174, Dev: 0.9290\n",
            "Epoch: [1/1000], Step: [300/301], Loss: 0.0249, Dev: 0.9320\n",
            "Epoch: [2/1000], Step: [100/301], Loss: 0.0430, Dev: 0.9310\n",
            "Epoch: [2/1000], Step: [200/301], Loss: 0.0302, Dev: 0.9300\n",
            "Epoch: [2/1000], Step: [300/301], Loss: 0.0416, Dev: 0.9290\n",
            "Epoch: [3/1000], Step: [100/301], Loss: 0.0974, Dev: 0.9300\n",
            "Epoch: [3/1000], Step: [200/301], Loss: 0.0392, Dev: 0.9290\n",
            "Epoch: [3/1000], Step: [300/301], Loss: 0.0305, Dev: 0.9300\n",
            "Epoch: [4/1000], Step: [100/301], Loss: 0.0437, Dev: 0.9290\n",
            "Epoch: [4/1000], Step: [200/301], Loss: 0.0451, Dev: 0.9290\n",
            "Epoch: [4/1000], Step: [300/301], Loss: 0.0531, Dev: 0.9310\n",
            "Epoch: [5/1000], Step: [100/301], Loss: 0.1126, Dev: 0.9300\n",
            "Epoch: [5/1000], Step: [200/301], Loss: 0.0547, Dev: 0.9310\n",
            "Epoch: [5/1000], Step: [300/301], Loss: 0.0299, Dev: 0.9310\n",
            "Epoch: [6/1000], Step: [100/301], Loss: 0.0140, Dev: 0.9290\n",
            "Epoch: [6/1000], Step: [200/301], Loss: 0.0363, Dev: 0.9310\n",
            "Epoch: [6/1000], Step: [300/301], Loss: 0.0413, Dev: 0.9310\n",
            "Epoch: [7/1000], Step: [100/301], Loss: 0.0251, Dev: 0.9310\n",
            "Epoch: [7/1000], Step: [200/301], Loss: 0.0369, Dev: 0.9290\n",
            "Epoch: [7/1000], Step: [300/301], Loss: 0.0376, Dev: 0.9300\n",
            "Epoch: [8/1000], Step: [100/301], Loss: 0.0274, Dev: 0.9320\n",
            "Epoch: [8/1000], Step: [200/301], Loss: 0.0383, Dev: 0.9310\n",
            "Epoch: [8/1000], Step: [300/301], Loss: 0.0405, Dev: 0.9310\n",
            "Epoch: [9/1000], Step: [100/301], Loss: 0.0336, Dev: 0.9290\n",
            "Epoch: [9/1000], Step: [200/301], Loss: 0.0252, Dev: 0.9310\n",
            "Epoch: [9/1000], Step: [300/301], Loss: 0.0421, Dev: 0.9310\n",
            "Epoch: [10/1000], Step: [100/301], Loss: 0.0306, Dev: 0.9310\n",
            "Epoch: [10/1000], Step: [200/301], Loss: 0.0595, Dev: 0.9310\n",
            "Epoch: [10/1000], Step: [300/301], Loss: 0.0352, Dev: 0.9310\n",
            "Epoch: [11/1000], Step: [100/301], Loss: 0.0574, Dev: 0.9290\n",
            "Epoch: [11/1000], Step: [200/301], Loss: 0.0202, Dev: 0.9310\n",
            "Epoch: [11/1000], Step: [300/301], Loss: 0.0647, Dev: 0.9310\n",
            "best_acc = 0.951 best_epochs =  0 best_lr =  1 best_l2 =  0\n"
          ],
          "name": "stdout"
        }
      ]
    },
    {
      "cell_type": "markdown",
      "metadata": {
        "id": "jRUlRGIWiqW9"
      },
      "source": [
        "# Evaluation"
      ]
    },
    {
      "cell_type": "markdown",
      "metadata": {
        "id": "6zDrPphzsTBf"
      },
      "source": [
        "## Validity Check\n",
        "This is a way for you to check whether you accidentially renamed answer variables or functions that we will use for automatic evaluation. Note that this is not a comprehensive list and we do not check here whether you accidentially changed the function signatures, so failing this validity check is only a sufficient condition for telling you something went wrong."
      ]
    },
    {
      "cell_type": "code",
      "metadata": {
        "id": "VEnoXoVjsVQ_"
      },
      "source": [
        "for answer in [Q1, Q2, Q3, Q4, Q5, Q6, Q7, Q8, Q9, Q10, QFormulation]:\n",
        "  assert isinstance(answer, str)\n",
        "\n",
        "for fun in [\n",
        "    construct_scaled_identity, \n",
        "    mean_diagonal, \n",
        "    bottom_right_matrix,\n",
        "    transpose_sum,\n",
        "    matrixvector1,\n",
        "    matrixvector2,\n",
        "    matrixvector3,\n",
        "    matrixvector4,\n",
        "    matrixvector5,\n",
        "    fw,\n",
        "    bw,\n",
        "    SortBy,\n",
        "    collapse_mr_dot,\n",
        "    LogisticRegressionMeanPooling,\n",
        "    add_features,\n",
        "    accuracy,\n",
        "    training_loop\n",
        "    ]:\n",
        "  assert callable(fun)"
      ],
      "execution_count": null,
      "outputs": []
    },
    {
      "cell_type": "code",
      "metadata": {
        "id": "wKyuktsCfKZK"
      },
      "source": [
        ""
      ],
      "execution_count": null,
      "outputs": []
    }
  ]
}